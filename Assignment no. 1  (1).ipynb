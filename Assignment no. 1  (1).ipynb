{
 "cells": [
  {
   "cell_type": "code",
   "execution_count": 1,
   "id": "7114b680-4905-4ae7-afac-8ae706b81474",
   "metadata": {},
   "outputs": [],
   "source": [
    "# Q. No. (1) \n",
    "# (i) string \n",
    "my_string = \"Hello, world!\"\n",
    "\n",
    "# (ii) list\n",
    "my_List = [1,2,3,4,5,6]\n",
    "\n",
    "# (iii) float\n",
    "my_float = 2.34\n",
    "\n",
    "# (iv) tuple\n",
    "my_tuple = (10,20,30,40)"
   ]
  },
  {
   "cell_type": "code",
   "execution_count": 4,
   "id": "b5893c41-db55-40a2-b521-ae319cad0293",
   "metadata": {},
   "outputs": [],
   "source": [
    "# Q. No. (2)\n",
    "(i) var1 = ' ' - The data type of var1 is a string.\n",
    "\n",
    "(ii) var2 = '[ DS , ML , Python]' - The data type of var2 is also a string.\n",
    "\n",
    "(iii) var3 = ['DS', 'ML', 'Python'] - The data type of var3 is a list.\n",
    "\n",
    "(iv) var4 = 1 - The data type of var4 is an integer. "
   ]
  },
  {
   "cell_type": "code",
   "execution_count": null,
   "id": "707f2b4f-1f3d-4ad0-9789-a9da07aa4a14",
   "metadata": {},
   "outputs": [],
   "source": [
    "# Q. No. (3)\n",
    "(i) '/' Operator:\n",
    "    The / operator is the division operator in most programming languages. It is used to divide one number by another."
   ]
  },
  {
   "cell_type": "code",
   "execution_count": 7,
   "id": "4b156966-d09a-4127-a937-9266369fc90c",
   "metadata": {},
   "outputs": [
    {
     "name": "stdout",
     "output_type": "stream",
     "text": [
      "3.3333333333333335\n"
     ]
    }
   ],
   "source": [
    " # Let's take an example in Python :\n",
    "a = 10\n",
    "b = 3\n",
    "c = a / b\n",
    "print(c)"
   ]
  },
  {
   "cell_type": "code",
   "execution_count": null,
   "id": "d7e4fce4-752a-4ec5-9dfd-a845f26a7bbd",
   "metadata": {},
   "outputs": [],
   "source": [
    "(ii) '%' Operator:\n",
    "The % operator is called the modulus operator or the remainder operator. It is used to find the remainder when one number is divided by another. "
   ]
  },
  {
   "cell_type": "code",
   "execution_count": 10,
   "id": "34f12204-3c75-4e66-8326-2a1e501fa280",
   "metadata": {},
   "outputs": [
    {
     "name": "stdout",
     "output_type": "stream",
     "text": [
      "1\n"
     ]
    }
   ],
   "source": [
    "#Let's continue with the previous example :\n",
    "a = 10\n",
    "b = 3\n",
    "c = a % b\n",
    "print(c)"
   ]
  },
  {
   "cell_type": "code",
   "execution_count": null,
   "id": "64b780cc-0197-447a-b22c-d2c51cc98b07",
   "metadata": {},
   "outputs": [],
   "source": [
    "(iii) '//' Operator:\n",
    "The // operator is the floor division operator. It performs division between two numbers and returns the integer part of the result, discarding any decimal places. \n"
   ]
  },
  {
   "cell_type": "code",
   "execution_count": 9,
   "id": "a8009a7f-88a5-4339-9887-1dcc3cde2084",
   "metadata": {},
   "outputs": [
    {
     "name": "stdout",
     "output_type": "stream",
     "text": [
      "3\n"
     ]
    }
   ],
   "source": [
    "# Let's use an example to illustrate :\n",
    "a = 10\n",
    "b = 3\n",
    "c = a // b\n",
    "print(c)\n"
   ]
  },
  {
   "cell_type": "code",
   "execution_count": null,
   "id": "acc16c02-d14e-4a76-a1e5-de269af824e9",
   "metadata": {},
   "outputs": [],
   "source": [
    "(iv) '**' Operator:\n",
    "The ** operator is the exponentiation operator. It raises a number to the power of another number. "
   ]
  },
  {
   "cell_type": "code",
   "execution_count": 12,
   "id": "ac26f1cd-6efd-467b-abb2-f74414dcd523",
   "metadata": {},
   "outputs": [
    {
     "name": "stdout",
     "output_type": "stream",
     "text": [
      "8\n"
     ]
    }
   ],
   "source": [
    "# Let's see an example:\n",
    "a = 2\n",
    "b = 3\n",
    "c = a ** b\n",
    "print(c)"
   ]
  },
  {
   "cell_type": "code",
   "execution_count": 16,
   "id": "d6aede90-260e-46dc-a027-1fd20157580d",
   "metadata": {},
   "outputs": [
    {
     "name": "stdout",
     "output_type": "stream",
     "text": [
      "1 <class 'int'>\n",
      "2 <class 'int'>\n",
      "3 <class 'int'>\n",
      "akash <class 'str'>\n",
      "3.14 <class 'float'>\n",
      "True <class 'bool'>\n",
      "False <class 'bool'>\n",
      "shiv <class 'str'>\n",
      "4 <class 'int'>\n",
      "23.4 <class 'float'>\n"
     ]
    }
   ],
   "source": [
    "# Q. No. 4 \n",
    "\n",
    "l = [1, 2, 3, \"akash\", 3.14, True, False, 'shiv', 4, 23.4]\n",
    "for i in l:\n",
    "    print(i, type(i))\n",
    "    "
   ]
  },
  {
   "cell_type": "code",
   "execution_count": 4,
   "id": "9306fc81-6346-442b-a56f-546e10c00961",
   "metadata": {},
   "outputs": [
    {
     "name": "stdout",
     "output_type": "stream",
     "text": [
      "7 is not divisible by 3\n",
      "21 is divisible by 3\n",
      "14 is not divisible by 3\n",
      "9 is divisible by 3\n",
      "30 is divisible by 3\n",
      "17 is not divisible by 3\n",
      "18 is divisible by 3\n",
      "25 is not divisible by 3\n",
      "12 is divisible by 3\n",
      "8 is not divisible by 3\n",
      "36 is divisible by 3\n",
      "45 is divisible by 3\n",
      "32 is not divisible by 3\n",
      "11 is not divisible by 3\n",
      "6 is divisible by 3\n",
      "24 is divisible by 3\n",
      "39 is divisible by 3\n",
      "16 is not divisible by 3\n",
      "27 is divisible by 3\n",
      "20 is not divisible by 3\n",
      "10 is not divisible by 3\n",
      "33 is divisible by 3\n",
      "22 is not divisible by 3\n",
      "28 is not divisible by 3\n",
      "15 is divisible by 3\n"
     ]
    }
   ],
   "source": [
    "# Q. No. 6\n",
    "\n",
    "# Creating a list of 25 integers\n",
    "my_list = [7, 21, 14, 9, 30, 17, 18, 25, 12, 8, 36, 45, 32, 11, 6, 24, 39, 16, 27, 20, 10, 33, 22, 28, 15]\n",
    "\n",
    "# Checking divisibility by 3 using a for loop and if-else condition\n",
    "for num in my_list:\n",
    "    if num % 3 == 0:\n",
    "        print(f\"{num} is divisible by 3\")\n",
    "    else:\n",
    "        print(f\"{num} is not divisible by 3\")"
   ]
  },
  {
   "cell_type": "code",
   "execution_count": null,
   "id": "f0e1abbd-b2e3-43f1-aa82-a3de29e19081",
   "metadata": {},
   "outputs": [],
   "source": [
    "# Q. No. 7\n",
    "Immutablen Data :\n",
    "Immutable data types are those whose values cannot be changed once they are created. Any operation on an immutable data type creates a new value rather than modifying the existing one.\n",
    "(1) immutable data types include:\n",
    "    \n",
    "(i) Strings: In most programming languages, strings are immutable. Once a string is created, its value cannot be modified.\n",
    "(ii) Tuples: Tuples are another example of an immutable data type. Once a tuple is created, its elements cannot be modified. However, the entire tuple can be replaced with a new tuple.\n",
    "\n",
    "(2) mutable data type :\n",
    "    On the other hand, mutable data types are those that can be modified after they are created. Changes made to a mutable data type affect the same instance of the object. \n",
    "    mutable data types include:\n",
    "(i) Lists: Lists are mutable in most programming languages. Elements can be added, removed, or modified within the list.       \n",
    "        "
   ]
  }
 ],
 "metadata": {
  "kernelspec": {
   "display_name": "Python 3 (ipykernel)",
   "language": "python",
   "name": "python3"
  },
  "language_info": {
   "codemirror_mode": {
    "name": "ipython",
    "version": 3
   },
   "file_extension": ".py",
   "mimetype": "text/x-python",
   "name": "python",
   "nbconvert_exporter": "python",
   "pygments_lexer": "ipython3",
   "version": "3.10.8"
  }
 },
 "nbformat": 4,
 "nbformat_minor": 5
}
